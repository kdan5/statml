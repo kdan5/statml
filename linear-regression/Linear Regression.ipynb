{
 "cells": [
  {
   "cell_type": "markdown",
   "metadata": {},
   "source": [
    "# Training a Linear Regression Algorithm\n",
    "***\n",
    "This is an exercise in computing a linear regression with a single variable. <br>\n",
    "I used the vectorized linear algebra functions from 'numpy' to optimize computations and the 'matplotlib' package for visual analysis."
   ]
  },
  {
   "cell_type": "code",
   "execution_count": 1,
   "metadata": {},
   "outputs": [],
   "source": [
    "# import required dependencies\n",
    "import numpy as np\n",
    "import matplotlib.pyplot as plt\n",
    "from mpl_toolkits.mplot3d import Axes3D\n",
    "from plotData import *\n",
    "from computeCost import *\n",
    "from gradientDescent import *"
   ]
  },
  {
   "cell_type": "markdown",
   "metadata": {},
   "source": [
    "Load the dataset from `ex1data1.txt` into the variables X and y."
   ]
  },
  {
   "cell_type": "code",
   "execution_count": 2,
   "metadata": {},
   "outputs": [],
   "source": [
    "# Load data from external file\n",
    "data = np.loadtxt(\"ex1data1.txt\", dtype=float, delimiter=',')\n",
    "x = data[:,0, None]\n",
    "y = data[:,1, None]\n",
    "m = len(y)"
   ]
  },
  {
   "cell_type": "markdown",
   "metadata": {},
   "source": [
    "It's a good idea to visualize the data before going any further. Then we can decide what analysis to perform. Since there are two quantitative variables, the data can be visualized using a scatterplot. <br>\n",
    "Note: Most problems have more than two variables and cannot be vizualized with simple 2D plots."
   ]
  },
  {
   "cell_type": "code",
   "execution_count": 3,
   "metadata": {},
   "outputs": [
    {
     "data": {
      "image/png": "[encoded data removed]",
      "text/plain": [
       "<Figure size 432x288 with 1 Axes>"
      ]
     },
     "metadata": {
      "needs_background": "light"
     },
     "output_type": "display_data"
    }
   ],
   "source": [
    "# Plot initial data\n",
    "plotData(x, y)\n",
    "plt.xlim(xmin=5, xmax=25)\n",
    "plt.ylim(ymin=-5, ymax=25)\n",
    "plt.title(\"Restaurant Profit by Population\")\n",
    "plt.ylabel(\"Profit in $10,000s\")\n",
    "plt.xlabel(\"Population of city in 10,000s\")\n",
    "plt.show()"
   ]
  },
  {
   "cell_type": "markdown",
   "metadata": {},
   "source": [
    "It looks like there is a linear relationship in the data so we want to find a linear model that fits the data. The general formula for a linear model is $$ f_{\\theta}(x) = \\theta_{0} + \\theta_{1}x. $$ So we want the algorithm to find a function that fits this formula and describes the behavior of the data. <br>\n",
    "\n",
    "Note: The parameter $\\theta_{0}$ is often called the bias parameter in statistics.\n",
    "\n",
    "The function described above can be vectorized by concatenating a column of ones onto x. Below I concatenate a bias vector of ones to the data and initialize the regression parameter vector $\\theta$. <br>"
   ]
  },
  {
   "cell_type": "code",
   "execution_count": 4,
   "metadata": {},
   "outputs": [],
   "source": [
    "# Prepare data for cost function\n",
    "X = np.concatenate((np.ones((m, 1)), data[:,0, None]), axis=-1)\n",
    "theta = np.zeros((2, 1))"
   ]
  },
  {
   "cell_type": "markdown",
   "metadata": {},
   "source": [
    "These are the hyperparameters that determine how many iterations to train the algorithm and the learning rate of the training step. These will come up later."
   ]
  },
  {
   "cell_type": "code",
   "execution_count": 5,
   "metadata": {},
   "outputs": [],
   "source": [
    "# Calibrate gradient descent formula\n",
    "iterations = 1500\n",
    "alpha = 0.01"
   ]
  },
  {
   "cell_type": "markdown",
   "metadata": {},
   "source": [
    "The goal now is to train the algorithm to find the parameters $\\theta$ that minimize a cost function. The regression is trained with the mean squared error (MSE) function $$ J(\\theta) = \\frac{1}{2m}\\sum_{i=1}^{m}\\left(f(\\theta)^{(i)} - y^{(i)}\\right)^{2}. $$ We can see that as $\\theta$ changes the cost goes up or down. We want the value of $\\theta$ that makes $J$ as small as possible."
   ]
  },
  {
   "cell_type": "code",
   "execution_count": 6,
   "metadata": {},
   "outputs": [
    {
     "name": "stdout",
     "output_type": "stream",
     "text": [
      "Cost computed for theta = [0 ; 0] is:\n",
      "32.072733877455676\n"
     ]
    }
   ],
   "source": [
    "# Compute cost with theta = [0, 0]\n",
    "J = computeCost(X, y, theta)\n",
    "print(\"Cost computed for theta = [0 ; 0] is:\")\n",
    "print(J)"
   ]
  },
  {
   "cell_type": "code",
   "execution_count": 7,
   "metadata": {},
   "outputs": [
    {
     "name": "stdout",
     "output_type": "stream",
     "text": [
      "Cost computed for theta = [-1 ; 2] is:\n",
      "54.24245508201238\n"
     ]
    }
   ],
   "source": [
    "# Compute cost with theta = [-1, 2]\n",
    "J = computeCost(X, y, np.matrix('-1 ; 2'))\n",
    "print(\"Cost computed for theta = [-1 ; 2] is:\")\n",
    "print(J)"
   ]
  },
  {
   "cell_type": "markdown",
   "metadata": {},
   "source": [
    "So how do we get the algorithm to decide on which parameters to choose? We're going to use derivatives to calculate the gradient of the cost function in a process called gradient descent. In particular we want the derivative of $J$ with respect to $\\theta$. So $$ \\frac{\\partial J}{\\partial \\theta_{0}} = \\frac{1}{m}\\sum_{i=1}^{m}\\left(f_{\\theta}(\\theta^{T}X) - y\\right)^{2} $$ and $$ \\frac{\\partial J}{\\partial \\theta_{0}} = \\frac{1}{m}\\sum_{i=1}^{m}\\left(f_{\\theta}(\\theta^{T}X) - y\\right)^{2}X_{i,2}. $$ This will produce a different $\\theta$ that is theoretically closer to the optimized value that we want. Here we're going to use the hyperparameters from earlier. The number of iterations will determine how many times gradient descent is run and the parameter $\\alpha$ will determine how large of a change each iteration has on $\\theta$."
   ]
  },
  {
   "cell_type": "code",
   "execution_count": 10,
   "metadata": {},
   "outputs": [
    {
     "name": "stdout",
     "output_type": "stream",
     "text": [
      "Calculated theta from gradient descent:\n",
      "[[-3.87805118]\n",
      " [ 1.1912525 ]]\n"
     ]
    }
   ],
   "source": [
    "# Calculate theta with gradient descent formula\n",
    "theta, J_history = gradientDescent(X, y, theta, alpha, iterations)\n",
    "print(\"Calculated theta from gradient descent:\")\n",
    "print(theta)"
   ]
  },
  {
   "cell_type": "markdown",
   "metadata": {},
   "source": [
    "Now if we plot the "
   ]
  },
  {
   "cell_type": "code",
   "execution_count": 9,
   "metadata": {},
   "outputs": [
    {
     "data": {
      "image/png": "[encoded data removed]",
      "text/plain": [
       "<Figure size 432x288 with 1 Axes>"
      ]
     },
     "metadata": {
      "needs_background": "light"
     },
     "output_type": "display_data"
    }
   ],
   "source": [
    "# Plot data with regression line\n",
    "plotData(x, y)\n",
    "plt.plot(x, np.dot(X, theta))\n",
    "plt.xlim(xmin=5, xmax=25)\n",
    "plt.ylim(ymin=-5, ymax=25)\n",
    "plt.title(\"Data and regression line\")\n",
    "plt.ylabel(\"Profit in $10,000s\")\n",
    "plt.xlabel(\"Population of city in 10,000s\")\n",
    "plt.show()"
   ]
  },
  {
   "cell_type": "code",
   "execution_count": null,
   "metadata": {},
   "outputs": [],
   "source": []
  }
 ],
 "metadata": {
  "kernelspec": {
   "display_name": "Python 3",
   "language": "python",
   "name": "python3"
  },
  "language_info": {
   "codemirror_mode": {
    "name": "ipython",
    "version": 3
   },
   "file_extension": ".py",
   "mimetype": "text/x-python",
   "name": "python",
   "nbconvert_exporter": "python",
   "pygments_lexer": "ipython3",
   "version": "3.7.4"
  }
 },
 "nbformat": 4,
 "nbformat_minor": 2
}
