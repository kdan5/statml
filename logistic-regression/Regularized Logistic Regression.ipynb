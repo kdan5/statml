{
 "cells": [
  {
   "cell_type": "markdown",
   "metadata": {},
   "source": [
    "# Regularized Logistic Regression"
   ]
  },
  {
   "cell_type": "code",
   "execution_count": 1,
   "metadata": {},
   "outputs": [],
   "source": [
    "import numpy as np\n",
    "import matplotlib.pyplot as plt\n",
    "import scipy.optimize as opt\n",
    "from plot_class import *\n",
    "from cross_entropy_loss_reg import *\n",
    "from plot_decision_boundary import *"
   ]
  },
  {
   "cell_type": "code",
   "execution_count": 2,
   "metadata": {},
   "outputs": [
    {
     "data": {
      "image/png": "[encoded data removed]",
      "text/plain": [
       "<Figure size 432x288 with 1 Axes>"
      ]
     },
     "metadata": {
      "needs_background": "light"
     },
     "output_type": "display_data"
    }
   ],
   "source": [
    "ex2data2 = np.loadtxt('ex2data2.txt', delimiter=',')\n",
    "\n",
    "x = ex2data2[:, 0:2]\n",
    "y = ex2data2[:, 2]\n",
    "\n",
    "plot_class(x, y)\n",
    "plt.xlabel(\"Microchip 1\")\n",
    "plt.ylabel(\"Microchip 2\")\n",
    "plt.xlim(-1.5, 1.5)\n",
    "plt.ylim(-1, 1.5)\n",
    "plt.legend([\"y = 1\", \"y = 0\"])\n",
    "plt.show()"
   ]
  },
  {
   "cell_type": "code",
   "execution_count": 3,
   "metadata": {},
   "outputs": [],
   "source": [
    "x_poly = map_feature(x[:, 0], x[:, 1])\n",
    "m, n = x_poly.shape\n",
    "X = x_poly\n",
    "theta = np.zeros((n + 1, 1))\n",
    "reg_lambda = 0"
   ]
  },
  {
   "cell_type": "code",
   "execution_count": 4,
   "metadata": {},
   "outputs": [],
   "source": [
    "cross_entropy_loss_reg(theta, X, y, reg_lambda)"
   ]
  },
  {
   "cell_type": "code",
   "execution_count": 5,
   "metadata": {},
   "outputs": [],
   "source": [
    "cross_entropy_gradient_reg(theta, X, y, reg_lambda)"
   ]
  },
  {
   "cell_type": "code",
   "execution_count": 6,
   "metadata": {},
   "outputs": [],
   "source": [
    "#options = {'eps':0.5e-5, 'maxiter':400}\n",
    "#opt.minimize(fun=cross_entropy_loss_reg, x0=theta, method='TNC', args=(X, y, reg_lambda), options=options)"
   ]
  },
  {
   "cell_type": "code",
   "execution_count": 7,
   "metadata": {},
   "outputs": [],
   "source": [
    "#acc = np.mean([sigmoid(np.dot(X, theta)) >= 0.5] == y.ravel())\n",
    "#acc"
   ]
  },
  {
   "cell_type": "code",
   "execution_count": 8,
   "metadata": {},
   "outputs": [],
   "source": [
    "#plot_decision_boundary(theta, X, y)"
   ]
  },
  {
   "cell_type": "code",
   "execution_count": null,
   "metadata": {},
   "outputs": [],
   "source": []
  }
 ],
 "metadata": {
  "kernelspec": {
   "display_name": "Python 3",
   "language": "python",
   "name": "python3"
  },
  "language_info": {
   "codemirror_mode": {
    "name": "ipython",
    "version": 3
   },
   "file_extension": ".py",
   "mimetype": "text/x-python",
   "name": "python",
   "nbconvert_exporter": "python",
   "pygments_lexer": "ipython3",
   "version": "3.7.4"
  }
 },
 "nbformat": 4,
 "nbformat_minor": 2
}
