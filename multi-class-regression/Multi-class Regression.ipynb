{
 "cells": [
  {
   "cell_type": "markdown",
   "metadata": {},
   "source": [
    "# Multi-class Regression"
   ]
  },
  {
   "cell_type": "code",
   "execution_count": 1,
   "metadata": {},
   "outputs": [],
   "source": [
    "import numpy as np\n",
    "import matplotlib.pyplot as plt\n",
    "from scipy.io import loadmat\n",
    "from display_data import *\n",
    "from sigmoid import *\n",
    "from cross_entropy_loss_reg import *\n",
    "from one_vs_all import *"
   ]
  },
  {
   "cell_type": "code",
   "execution_count": 2,
   "metadata": {},
   "outputs": [],
   "source": [
    "data = loadmat('ex3data.mat')\n",
    "X = data['X']\n",
    "# Subtract one to avoid confusions with indexing\n",
    "y = data['y']\n",
    "\n",
    "m, n = X.shape\n",
    "input_layer_size = 400\n",
    "labels = 10\n",
    "# Randomly select 100 training examples\n",
    "random_indices = np.random.randint(0, X.shape[0], size=100)\n",
    "vis_data = X[random_indices, :]"
   ]
  },
  {
   "cell_type": "code",
   "execution_count": null,
   "metadata": {},
   "outputs": [],
   "source": [
    "display_data(vis_data);"
   ]
  },
  {
   "cell_type": "code",
   "execution_count": null,
   "metadata": {},
   "outputs": [],
   "source": [
    "theta_test = np.array([-2, -1, 1, 2])\n",
    "a = np.array(range(1,16))\n",
    "a = a / 10\n",
    "a = np.reshape(a, (5, 3))\n",
    "X_test = np.concatenate((np.ones((5, 1)), a), axis=-1)\n",
    "y_test = (np.array([1, 0, 1, 0, 1]) >= 0.5).reshape((5,1))\n",
    "print(y_test.shape)\n",
    "lambda_test = 3\n",
    "cross_entropy_loss_reg(theta_test, X_test, y_test.astype(np.int), lambda_test)\n",
    "cross_entropy_gradient_reg(theta_test, X_test, y_test.astype(np.int), lambda_test)"
   ]
  },
  {
   "cell_type": "code",
   "execution_count": null,
   "metadata": {},
   "outputs": [],
   "source": [
    "big_theta = one_vs_all(X, y, reg_lambda=0.1, K=labels)"
   ]
  },
  {
   "cell_type": "code",
   "execution_count": null,
   "metadata": {},
   "outputs": [],
   "source": [
    "X_train = np.concatenate((np.ones((m, 1)), X), axis=-1)\n",
    "p_index = np.zeros((m, 1))\n",
    "p_index = np.argmax(sigmoid(np.dot(X_train, np.transpose(big_theta))), axis=1)\n",
    "acc = np.mean(p_index == y.ravel())\n",
    "print(\"Model accuracy:\", acc)"
   ]
  },
  {
   "cell_type": "code",
   "execution_count": null,
   "metadata": {},
   "outputs": [],
   "source": []
  }
 ],
 "metadata": {
  "kernelspec": {
   "display_name": "Python 3",
   "language": "python",
   "name": "python3"
  },
  "language_info": {
   "codemirror_mode": {
    "name": "ipython",
    "version": 3
   },
   "file_extension": ".py",
   "mimetype": "text/x-python",
   "name": "python",
   "nbconvert_exporter": "python",
   "pygments_lexer": "ipython3",
   "version": "3.7.4"
  }
 },
 "nbformat": 4,
 "nbformat_minor": 2
}
